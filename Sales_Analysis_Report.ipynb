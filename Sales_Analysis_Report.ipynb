{
 "cells": [
  {
   "cell_type": "markdown",
   "id": "88edb151",
   "metadata": {},
   "source": [
    "# Sales Data Analysis"
   ]
  },
  {
   "cell_type": "markdown",
   "id": "6d19e434",
   "metadata": {},
   "source": [
    "### Summary Statistics"
   ]
  },
  {
   "cell_type": "code",
   "execution_count": null,
   "id": "0bb6d796",
   "metadata": {},
   "outputs": [],
   "source": [
    "\n",
    "# Summary statistics for the financial columns\n",
    "summary_stats = sales_data[['Unit Cost', 'Price', 'Order Qty', 'Cost of Sales', 'Sales', 'Profit']].describe()\n",
    "summary_stats\n"
   ]
  },
  {
   "cell_type": "markdown",
   "id": "e2e8db97",
   "metadata": {},
   "source": [
    "### Monthly Sales and Profit Trends"
   ]
  },
  {
   "cell_type": "code",
   "execution_count": null,
   "id": "5287a9a4",
   "metadata": {},
   "outputs": [],
   "source": [
    "\n",
    "# Monthly Sales and Profit Trends\n",
    "monthly_sales_profit = sales_data.groupby(['Year', 'Month'])[['Sales', 'Profit']].sum().reset_index()\n",
    "plt.figure(figsize=(12, 6))\n",
    "plt.plot(monthly_sales_profit['Year'].astype(str) + '-' + monthly_sales_profit['Month'].astype(str),\n",
    "         monthly_sales_profit['Sales'], label='Sales', marker='o')\n",
    "plt.plot(monthly_sales_profit['Year'].astype(str) + '-' + monthly_sales_profit['Month'].astype(str),\n",
    "         monthly_sales_profit['Profit'], label='Profit', marker='o')\n",
    "plt.title(\"Monthly Sales and Profit Trends\")\n",
    "plt.xlabel(\"Year-Month\")\n",
    "plt.ylabel(\"Amount\")\n",
    "plt.xticks(rotation=90)\n",
    "plt.legend()\n",
    "plt.tight_layout()\n",
    "plt.show()\n"
   ]
  },
  {
   "cell_type": "markdown",
   "id": "b14e3655",
   "metadata": {},
   "source": [
    "### Profit Analysis by Country, Product Category, and Promotion"
   ]
  },
  {
   "cell_type": "code",
   "execution_count": null,
   "id": "18d8c72a",
   "metadata": {},
   "outputs": [],
   "source": [
    "\n",
    "# Profit by Country\n",
    "country_profit = sales_data.groupby('Country')['Profit'].sum().sort_values(ascending=False).reset_index()\n",
    "country_profit.head(10)\n",
    "\n",
    "# Profit by Product Category\n",
    "category_profit = sales_data.groupby('Product Category')['Profit'].sum().sort_values(ascending=False).reset_index()\n",
    "category_profit\n",
    "\n",
    "# Profit by Promotion\n",
    "promotion_profit = sales_data.groupby('Promotion Name')['Profit'].sum().sort_values(ascending=False).reset_index()\n",
    "promotion_profit.head(10)\n"
   ]
  }
 ],
 "metadata": {},
 "nbformat": 4,
 "nbformat_minor": 5
}
